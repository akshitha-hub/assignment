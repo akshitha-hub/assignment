{
  "nbformat": 4,
  "nbformat_minor": 0,
  "metadata": {
    "colab": {
      "name": "assignment -name error",
      "provenance": [],
      "collapsed_sections": []
    },
    "kernelspec": {
      "name": "python3",
      "display_name": "Python 3"
    }
  },
  "cells": [
    {
      "cell_type": "code",
      "metadata": {
        "id": "SHuaGFv-CGto",
        "colab_type": "code",
        "colab": {}
      },
      "source": [
        "\n",
        "\n"
      ],
      "execution_count": null,
      "outputs": []
    },
    {
      "cell_type": "markdown",
      "metadata": {
        "id": "Fn4_oQ92Cldw",
        "colab_type": "text"
      },
      "source": [
        "PART-A\n",
        "# WRITE A FUNCTION THAT TAKES A LIST OF STRINGS AND PRINTS THEM,ONE PER LINE,IN A RECTANGULAR FRAME."
      ]
    },
    {
      "cell_type": "code",
      "metadata": {
        "id": "Lf66XHJlDRHH",
        "colab_type": "code",
        "colab": {
          "base_uri": "https://localhost:8080/",
          "height": 136
        },
        "outputId": "c56c6825-1a8a-456c-f4be-15b099f4cc1f"
      },
      "source": [
        "lis=[\"Hello\",\"World\",\"in\",\"a\",\"frame\"]\n",
        "longer=len(max(lis,key=len))\n",
        "line='*' * (longer+4)\n",
        "print(line)\n",
        "for word in lis:\n",
        "    print(f'*{word:{longer}}*')\n",
        "print(line) "
      ],
      "execution_count": null,
      "outputs": [
        {
          "output_type": "stream",
          "text": [
            "*********\n",
            "*Hello*\n",
            "*World*\n",
            "*in   *\n",
            "*a    *\n",
            "*frame*\n",
            "*********\n"
          ],
          "name": "stdout"
        }
      ]
    },
    {
      "cell_type": "code",
      "metadata": {
        "id": "FN0EMjRCFlrY",
        "colab_type": "code",
        "colab": {}
      },
      "source": [
        ""
      ],
      "execution_count": null,
      "outputs": []
    },
    {
      "cell_type": "markdown",
      "metadata": {
        "id": "GhXLMDWgFmNx",
        "colab_type": "text"
      },
      "source": [
        "## PART-B   \n",
        "\n",
        "#DEVELOP A PYTHON PROGRAM TO CHECK IF A GIVEN STRING IS PALINDROME OR NOT?\n"
      ]
    },
    {
      "cell_type": "code",
      "metadata": {
        "id": "5jI7_KKZGBpr",
        "colab_type": "code",
        "colab": {
          "base_uri": "https://localhost:8080/",
          "height": 51
        },
        "outputId": "b9a6f796-77e3-4425-af51-4ee834a8e3e2"
      },
      "source": [
        "n=(input(\"Enter String-\"))\n",
        "#a=n[::-1]\n",
        "if n==n[::-1]:\n",
        "  print(n,\"is a palindrome\")\n",
        "else:\n",
        "  print(n,\"is not a palindrome\")"
      ],
      "execution_count": null,
      "outputs": [
        {
          "output_type": "stream",
          "text": [
            "Enter String-madam\n",
            "madam is a palindrome\n"
          ],
          "name": "stdout"
        }
      ]
    },
    {
      "cell_type": "code",
      "metadata": {
        "id": "hk3LcGXuGgpb",
        "colab_type": "code",
        "colab": {}
      },
      "source": [
        ""
      ],
      "execution_count": null,
      "outputs": []
    },
    {
      "cell_type": "markdown",
      "metadata": {
        "id": "zkS7UTGICLzU",
        "colab_type": "text"
      },
      "source": [
        ""
      ]
    }
  ]
}